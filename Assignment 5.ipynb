{
 "cells": [
  {
   "cell_type": "markdown",
   "metadata": {},
   "source": [
    "<h1>Exception Handling</h1>"
   ]
  },
  {
   "cell_type": "markdown",
   "metadata": {},
   "source": [
    "<h2>Question 1</h2>\n",
    "<p>Write a function to compute 5/0 and use try/except to catch the exceptions.</p>"
   ]
  },
  {
   "cell_type": "code",
   "execution_count": 1,
   "metadata": {},
   "outputs": [],
   "source": [
    "def compute_div(a, b):\n",
    "    try:\n",
    "        result = a / b\n",
    "        return result\n",
    "    except Exception as e:\n",
    "        print('Zero Division Error :\\n', e)"
   ]
  },
  {
   "cell_type": "code",
   "execution_count": 2,
   "metadata": {},
   "outputs": [
    {
     "name": "stdout",
     "output_type": "stream",
     "text": [
      "Zero Division Error :\n",
      " division by zero\n"
     ]
    }
   ],
   "source": [
    "compute_div(5, 0)"
   ]
  },
  {
   "cell_type": "markdown",
   "metadata": {},
   "source": [
    "---"
   ]
  },
  {
   "cell_type": "markdown",
   "metadata": {},
   "source": [
    "<h2>Question 2</h2>\n",
    "<p>Implement a Python program to generate all the sentences where subject is in ['Americans', 'Indians'] and verb is in ['Play', 'Watch'] and the object is in ['Baseball', 'Cricket'].</p>\n",
    "<p>Hint : Subject, Verb and Object should be declared in the program as shown below.</p>\n",
    "<p>subjects = ['Americans', 'Indians']<br> verbs = ['Play', 'Watch']<br> objects = ['Baseball', 'Cricket']</p>\n",
    "\n",
    "<h5>Output should come as below :</h5>\n",
    "\n",
    "<p>Americans play Baseball.<br>Americans play Cricket.<br>Americans watch Baseball.<br>Americans watch Cricket.<br>Indians play Baseball.<br>Indians play Cricket.<br>Indians watch Baseball.<br>Indians watch Criket.</p>"
   ]
  },
  {
   "cell_type": "code",
   "execution_count": 3,
   "metadata": {},
   "outputs": [
    {
     "name": "stdout",
     "output_type": "stream",
     "text": [
      "Americans Play Baseball.\n",
      "Americans Play Cricket.\n",
      "Americans Watch Baseball.\n",
      "Americans Watch Cricket.\n",
      "Indians Play Baseball.\n",
      "Indians Play Cricket.\n",
      "Indians Watch Baseball.\n",
      "Indians Watch Cricket.\n"
     ]
    }
   ],
   "source": [
    "try:\n",
    "    subjects = ['Americans', 'Indians']\n",
    "    verbs = ['Play', 'Watch']\n",
    "    objects = ['Baseball', 'Cricket']\n",
    "\n",
    "    for k in subjects:\n",
    "        for l in verbs:\n",
    "            for m in objects:\n",
    "                print(k + ' ' + l + ' ' + m + '.')\n",
    "except Exception as e:\n",
    "    print('Error : \\n', e)"
   ]
  },
  {
   "cell_type": "markdown",
   "metadata": {},
   "source": [
    "---"
   ]
  }
 ],
 "metadata": {
  "kernelspec": {
   "display_name": "Python 3",
   "language": "python",
   "name": "python3"
  },
  "language_info": {
   "codemirror_mode": {
    "name": "ipython",
    "version": 3
   },
   "file_extension": ".py",
   "mimetype": "text/x-python",
   "name": "python",
   "nbconvert_exporter": "python",
   "pygments_lexer": "ipython3",
   "version": "3.8.5"
  }
 },
 "nbformat": 4,
 "nbformat_minor": 4
}
