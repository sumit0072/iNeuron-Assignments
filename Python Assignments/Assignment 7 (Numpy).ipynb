{
 "cells": [
  {
   "cell_type": "markdown",
   "metadata": {},
   "source": [
    "<h1>Assignment on Numpy</h1>"
   ]
  },
  {
   "cell_type": "markdown",
   "metadata": {},
   "source": [
    "<p>Write a function so that the columns of the output matrix are powers of the input vector.<br><br>The order of the powers is detertmined by the increasing boolean argument. Specially, when increasing is False, the ith output column is the input vector raised element-wise to the power of<br> N - i -1.<br><br><b>Hint </b>: Such a matrix with a geomatric progression in each row is named for Alexandre-Theophile Vandermonde.</p>"
   ]
  },
  {
   "cell_type": "markdown",
   "metadata": {},
   "source": [
    "<h3>Problem Statement</h3>\n",
    "<p>Given a sequence of n values x1, x2, .... , xn and a window size k>0, the k-th moving average of the given sequence is defined as follows :<br><br>The moving average sequence has n - k + 1 elements as shown below.<br><br>The moving averages with k = 4 of a ten-value sequence (n = 10) is shown below :</p>\n",
    "\n",
    "|   i   |  1   2  3  4  5  6  7  8  9   10  |\n",
    "| ----- | --  -- -- -- -- -- -- -- --  ---- |\n",
    "| input | 10  20 30 40 50 60 70 80 90  100  |\n",
    "|   y1  | 25  =  ( 10 + 20 + 30 + 40 ) / 4  |\n",
    "|   y2  | 35  =  ( 20 + 30 + 40 + 50 ) / 4  |\n",
    "|   y3  | 45  =  ( 30 + 40 + 50 + 60 ) / 4  |\n",
    "|   y4  | 55  =  ( 40 + 50 + 60 + 70 ) / 4  |\n",
    "|   y5  | 65  =  ( 50 + 60 + 70 + 80 ) / 4  |\n",
    "|   y6  | 75  =  ( 60 + 70 + 80 + 90 ) / 4  |\n",
    "|   y7  | 85  =  ( 70 + 80 + 90 + 100 ) / 4 |\n",
    "\n",
    "<p>Thus, the moving average sequence has n - k + 1 = 10 - 4 + 1 = 7 values.</p>\n",
    "\n",
    "<h4>Question</h4>\n",
    "<p>Write a function to find moving average in an array over a window :<br>Test it over [3,5,7,2,8,10,11,65,72,81,99,100,150] and window of 3.</p>\n",
    "\n",
    "---"
   ]
  },
  {
   "cell_type": "markdown",
   "metadata": {},
   "source": [
    "<table>\n",
    "    <th><td></td></th>\n",
    "</table>"
   ]
  },
  {
   "cell_type": "code",
   "execution_count": 1,
   "metadata": {},
   "outputs": [],
   "source": [
    "import numpy as np"
   ]
  },
  {
   "cell_type": "code",
   "execution_count": 2,
   "metadata": {},
   "outputs": [],
   "source": [
    "def moving_average(a, k):\n",
    "    '''\n",
    "    Return the Moving Average of the elements along a given axis.\n",
    "    \n",
    "    Parameters :\n",
    "    ----------\n",
    "    a = array_like input array, list\n",
    "    k = window size\n",
    "    \n",
    "    '''\n",
    "    x = np.cumsum(a, dtype=float)       # It will return cumulative sum \n",
    "    x[k:] = x[k:] - x[:-k]\n",
    "    return x[k - 1:] / k"
   ]
  },
  {
   "cell_type": "code",
   "execution_count": 3,
   "metadata": {},
   "outputs": [
    {
     "data": {
      "text/plain": [
       "array([  5.        ,   4.66666667,   5.66666667,   6.66666667,\n",
       "         9.66666667,  28.66666667,  49.33333333,  72.66666667,\n",
       "        84.        ,  93.33333333, 116.33333333])"
      ]
     },
     "execution_count": 3,
     "metadata": {},
     "output_type": "execute_result"
    }
   ],
   "source": [
    "l = [3,5,7,2,8,10,11,65,72,81,99,100,150]\n",
    "window = 3\n",
    "\n",
    "moving_average(a= l, k= window)"
   ]
  },
  {
   "cell_type": "markdown",
   "metadata": {},
   "source": [
    "---"
   ]
  }
 ],
 "metadata": {
  "kernelspec": {
   "display_name": "Python 3",
   "language": "python",
   "name": "python3"
  },
  "language_info": {
   "codemirror_mode": {
    "name": "ipython",
    "version": 3
   },
   "file_extension": ".py",
   "mimetype": "text/x-python",
   "name": "python",
   "nbconvert_exporter": "python",
   "pygments_lexer": "ipython3",
   "version": "3.8.5"
  }
 },
 "nbformat": 4,
 "nbformat_minor": 4
}
