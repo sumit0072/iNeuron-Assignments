{
 "cells": [
  {
   "cell_type": "markdown",
   "metadata": {},
   "source": [
    "# Assignment on Dictionaries and Function"
   ]
  },
  {
   "cell_type": "markdown",
   "metadata": {},
   "source": [
    "<h2>Question 1.1</h2>\n",
    "<p>Write a Python Program (with class concepts) to find the area of the triangle using the below formula.<br>\n",
    "Area = ( s * ( s - a ) * ( s - b ) * ( s - c )) ** 0.5</p>\n",
    "<p>Function to take length of the sides of triangle from user should be defined in the parent class and function to calculate the area should be defined in the subclass.</p>"
   ]
  },
  {
   "cell_type": "code",
   "execution_count": 1,
   "metadata": {},
   "outputs": [],
   "source": [
    "class Triangle:\n",
    "    def __init__(self, a, b, c):\n",
    "        self.a = a\n",
    "        self.b = b\n",
    "        self.c = c\n",
    "        \n",
    "    def area(self):\n",
    "        s = (self.a + self.b + self.c) / 2         # calculate semi-perimeter of the triangle\n",
    "        area_of_triangle = (s * (s - self.a) * (s - self.b) * (s - self.c)) ** 0.5         # Using Heron’s formula to calculate Area of triangle\n",
    "        return 'Area of Triangle : {}'.format(round(area_of_triangle, ndigits= 4))"
   ]
  },
  {
   "cell_type": "code",
   "execution_count": 2,
   "metadata": {},
   "outputs": [],
   "source": [
    "tri_test = Triangle(7, 8, 6)"
   ]
  },
  {
   "cell_type": "code",
   "execution_count": 3,
   "metadata": {},
   "outputs": [
    {
     "data": {
      "text/plain": [
       "'Area of Triangle : 20.3332'"
      ]
     },
     "execution_count": 3,
     "metadata": {},
     "output_type": "execute_result"
    }
   ],
   "source": [
    "tri_test.area()"
   ]
  },
  {
   "cell_type": "markdown",
   "metadata": {},
   "source": [
    "---"
   ]
  },
  {
   "cell_type": "markdown",
   "metadata": {},
   "source": [
    "<h2>Question 1.2</h2>\n",
    "<p>Write a function to filter_long_words() that takes a list of words and an integer n and returns the list of words that are longer than n.</p>"
   ]
  },
  {
   "cell_type": "code",
   "execution_count": 4,
   "metadata": {},
   "outputs": [],
   "source": [
    "def filter_long_words(list_1, n):\n",
    "    '''\n",
    "    It returns the list of words that are longer than n.\n",
    "    list_1 : It is a list of words\n",
    "    n : integer value to be compared with length of words.\n",
    "    '''\n",
    "    filterd_list = []\n",
    "    for x in range(0, len(list_1)):\n",
    "        if len(list_1[x]) > n:\n",
    "            filterd_list.append(list_1[x])\n",
    "    return filterd_list"
   ]
  },
  {
   "cell_type": "code",
   "execution_count": 5,
   "metadata": {},
   "outputs": [
    {
     "name": "stdin",
     "output_type": "stream",
     "text": [
      "Enter the value of n :  4\n"
     ]
    },
    {
     "data": {
      "text/plain": [
       "['India', 'Germany', 'Australia', 'New Zealand', 'China']"
      ]
     },
     "execution_count": 5,
     "metadata": {},
     "output_type": "execute_result"
    }
   ],
   "source": [
    "l = ['India', 'Germany', 'USA', 'Australia', 'UK', 'New Zealand', 'China', 'UAE']\n",
    "n = int(input('Enter the value of n : '))         # value of n as 4\n",
    "filter_long_words(l, n)"
   ]
  },
  {
   "cell_type": "markdown",
   "metadata": {},
   "source": [
    "---"
   ]
  },
  {
   "cell_type": "markdown",
   "metadata": {},
   "source": [
    "<h2>Question 2.1</h2>\n",
    "<p>Write a Python program using function concept that maps list of words into a list of integers representing the lengths of the corresponding words.</p>\n",
    "<p><b>Hint :</b> If a list [ ab, cde, erty ] is passed on to the python function output should come as [2,3,4].<br> Here 2, 3 and 4 are the lengths of the words in the list.</p>"
   ]
  },
  {
   "cell_type": "code",
   "execution_count": 6,
   "metadata": {},
   "outputs": [],
   "source": [
    "def map_low_to_lol(list_of_words):\n",
    "    '''\n",
    "    It maps List of words to List of integers representing the\n",
    "    lengths of the corresponding words.\n",
    "    '''\n",
    "    list_of_len = []\n",
    "    for x in range(0, len(list_of_words)):\n",
    "        list_of_len.append(len(list_of_words[x]))\n",
    "    return list_of_len  "
   ]
  },
  {
   "cell_type": "code",
   "execution_count": 7,
   "metadata": {},
   "outputs": [
    {
     "data": {
      "text/plain": [
       "[5, 7, 3, 9, 2, 11, 5, 3]"
      ]
     },
     "execution_count": 7,
     "metadata": {},
     "output_type": "execute_result"
    }
   ],
   "source": [
    "l = ['India', 'Germany', 'USA', 'Australia', 'UK', 'New Zealand', 'China', 'UAE']\n",
    "map_low_to_lol(list_of_words= l)"
   ]
  },
  {
   "cell_type": "markdown",
   "metadata": {},
   "source": [
    "---"
   ]
  },
  {
   "cell_type": "markdown",
   "metadata": {},
   "source": [
    "<h2>Question 2.2</h2>\n",
    "<p>Write a Python function which takes a character (i.e. a string of length 1) and returnss True if it is a vowel,  False otherwise.</p>"
   ]
  },
  {
   "cell_type": "code",
   "execution_count": 8,
   "metadata": {},
   "outputs": [],
   "source": [
    "def is_vowel(character):\n",
    "    '''\n",
    "    It checks wether given string character is vowel or not.\n",
    "    '''\n",
    "    if len(character) == 1:\n",
    "        if character.lower() in ('a', 'e', 'i', 'o', 'u'):\n",
    "            return True\n",
    "        else:\n",
    "            return False\n",
    "    else:\n",
    "        print('Please type a letter') "
   ]
  },
  {
   "cell_type": "code",
   "execution_count": 9,
   "metadata": {},
   "outputs": [
    {
     "name": "stdout",
     "output_type": "stream",
     "text": [
      "False\n",
      "Please type a letter\n",
      "None\n",
      "True\n"
     ]
    }
   ],
   "source": [
    "print(is_vowel(character='k'))\n",
    "print(is_vowel(character= 'le'))\n",
    "print(is_vowel(character='i'))"
   ]
  },
  {
   "cell_type": "markdown",
   "metadata": {},
   "source": [
    "---"
   ]
  }
 ],
 "metadata": {
  "kernelspec": {
   "display_name": "Python 3",
   "language": "python",
   "name": "python3"
  },
  "language_info": {
   "codemirror_mode": {
    "name": "ipython",
    "version": 3
   },
   "file_extension": ".py",
   "mimetype": "text/x-python",
   "name": "python",
   "nbconvert_exporter": "python",
   "pygments_lexer": "ipython3",
   "version": "3.8.5"
  }
 },
 "nbformat": 4,
 "nbformat_minor": 4
}
